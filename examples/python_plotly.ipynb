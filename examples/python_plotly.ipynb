{
 "cells": [
  {
   "cell_type": "code",
   "execution_count": 98,
   "id": "sunrise-basin",
   "metadata": {},
   "outputs": [],
   "source": [
    "import sys\n",
    "sys.path.append('../')\n",
    "%reload_ext autoreload\n",
    "%autoreload 2"
   ]
  },
  {
   "cell_type": "markdown",
   "id": "beneficial-chamber",
   "metadata": {},
   "source": [
    "### Basic usage\n",
    "\n",
    "- import colors and templates from oistyle\n",
    "- pass template to plotly (express)"
   ]
  },
  {
   "cell_type": "code",
   "execution_count": null,
   "id": "rubber-direction",
   "metadata": {},
   "outputs": [],
   "source": [
    "import plotly.express as px\n",
    "import pandas as pd\n",
    "from python.plotly import bar_chart_template, colors, line_chart_template"
   ]
  },
  {
   "cell_type": "code",
   "execution_count": 99,
   "id": "short-translator",
   "metadata": {},
   "outputs": [
    {
     "data": {
      "application/vnd.plotly.v1+json": {
       "config": {
        "plotlyServerURL": "https://plot.ly"
       },
       "data": [
        {
         "alignmentgroup": "True",
         "hovertemplate": "variable=gold<br>nation=%{x}<br>value=%{y}<extra></extra>",
         "legendgroup": "gold",
         "marker": {
          "color": "#004699"
         },
         "name": "gold",
         "offsetgroup": "gold",
         "orientation": "v",
         "showlegend": true,
         "textposition": "auto",
         "type": "bar",
         "x": [
          "South Korea",
          "China",
          "Canada"
         ],
         "xaxis": "x",
         "y": [
          24,
          10,
          9
         ],
         "yaxis": "y"
        },
        {
         "alignmentgroup": "True",
         "hovertemplate": "variable=silver<br>nation=%{x}<br>value=%{y}<extra></extra>",
         "legendgroup": "silver",
         "marker": {
          "color": "#00a0e6"
         },
         "name": "silver",
         "offsetgroup": "silver",
         "orientation": "v",
         "showlegend": true,
         "textposition": "auto",
         "type": "bar",
         "x": [
          "South Korea",
          "China",
          "Canada"
         ],
         "xaxis": "x",
         "y": [
          13,
          15,
          12
         ],
         "yaxis": "y"
        },
        {
         "alignmentgroup": "True",
         "hovertemplate": "variable=bronze<br>nation=%{x}<br>value=%{y}<extra></extra>",
         "legendgroup": "bronze",
         "marker": {
          "color": "#71BDEE"
         },
         "name": "bronze",
         "offsetgroup": "bronze",
         "orientation": "v",
         "showlegend": true,
         "textposition": "auto",
         "type": "bar",
         "x": [
          "South Korea",
          "China",
          "Canada"
         ],
         "xaxis": "x",
         "y": [
          11,
          8,
          12
         ],
         "yaxis": "y"
        }
       ],
       "layout": {
        "autosize": true,
        "barmode": "relative",
        "legend": {
         "title": {
          "text": "variable"
         },
         "tracegroupgap": 0
        },
        "margin": {
         "t": 60
        },
        "template": {
         "layout": {
          "colorway": [
           "#004699",
           "#00a0e6",
           "#71BDEE",
           "#B1D9F5",
           "#E5F2FC"
          ],
          "font": {
           "family": "Corbel",
           "size": 15
          },
          "plot_bgcolor": "#FFFFFF",
          "xaxis": {
           "gridcolor": "#E8E8E8",
           "gridwidth": 0.75,
           "linecolor": "#E8E8E8",
           "linewidth": 0.75,
           "mirror": true,
           "showgrid": false,
           "showline": true,
           "zerolinecolor": "#E8E8E8"
          },
          "yaxis": {
           "gridcolor": "#E8E8E8",
           "gridwidth": 0.75,
           "linecolor": "#E8E8E8",
           "linewidth": 0.75,
           "mirror": true,
           "showgrid": true,
           "showline": true,
           "zerolinecolor": "#E8E8E8"
          }
         }
        },
        "xaxis": {
         "anchor": "y",
         "autorange": true,
         "domain": [
          0,
          1
         ],
         "range": [
          -0.5,
          2.5
         ],
         "title": {
          "text": "nation"
         },
         "type": "category"
        },
        "yaxis": {
         "anchor": "x",
         "autorange": true,
         "domain": [
          0,
          1
         ],
         "range": [
          0,
          50.526315789473685
         ],
         "title": {
          "text": "value"
         },
         "type": "linear"
        }
       }
      },
      "image/png": "[encoded data removed]",
      "text/html": [
       "<div>                            <div id=\"7fa4646c-423b-49e4-ac72-62757c672346\" class=\"plotly-graph-div\" style=\"height:525px; width:100%;\"></div>            <script type=\"text/javascript\">                require([\"plotly\"], function(Plotly) {                    window.PLOTLYENV=window.PLOTLYENV || {};                                    if (document.getElementById(\"7fa4646c-423b-49e4-ac72-62757c672346\")) {                    Plotly.newPlot(                        \"7fa4646c-423b-49e4-ac72-62757c672346\",                        [{\"alignmentgroup\": \"True\", \"hovertemplate\": \"variable=gold<br>nation=%{x}<br>value=%{y}<extra></extra>\", \"legendgroup\": \"gold\", \"marker\": {\"color\": \"#004699\"}, \"name\": \"gold\", \"offsetgroup\": \"gold\", \"orientation\": \"v\", \"showlegend\": true, \"textposition\": \"auto\", \"type\": \"bar\", \"x\": [\"South Korea\", \"China\", \"Canada\"], \"xaxis\": \"x\", \"y\": [24, 10, 9], \"yaxis\": \"y\"}, {\"alignmentgroup\": \"True\", \"hovertemplate\": \"variable=silver<br>nation=%{x}<br>value=%{y}<extra></extra>\", \"legendgroup\": \"silver\", \"marker\": {\"color\": \"#00a0e6\"}, \"name\": \"silver\", \"offsetgroup\": \"silver\", \"orientation\": \"v\", \"showlegend\": true, \"textposition\": \"auto\", \"type\": \"bar\", \"x\": [\"South Korea\", \"China\", \"Canada\"], \"xaxis\": \"x\", \"y\": [13, 15, 12], \"yaxis\": \"y\"}, {\"alignmentgroup\": \"True\", \"hovertemplate\": \"variable=bronze<br>nation=%{x}<br>value=%{y}<extra></extra>\", \"legendgroup\": \"bronze\", \"marker\": {\"color\": \"#71BDEE\"}, \"name\": \"bronze\", \"offsetgroup\": \"bronze\", \"orientation\": \"v\", \"showlegend\": true, \"textposition\": \"auto\", \"type\": \"bar\", \"x\": [\"South Korea\", \"China\", \"Canada\"], \"xaxis\": \"x\", \"y\": [11, 8, 12], \"yaxis\": \"y\"}],                        {\"barmode\": \"relative\", \"legend\": {\"title\": {\"text\": \"variable\"}, \"tracegroupgap\": 0}, \"margin\": {\"t\": 60}, \"template\": {\"layout\": {\"colorway\": [\"#004699\", \"#00a0e6\", \"#71BDEE\", \"#B1D9F5\", \"#E5F2FC\"], \"font\": {\"family\": \"Corbel\", \"size\": 15}, \"plot_bgcolor\": \"#FFFFFF\", \"xaxis\": {\"gridcolor\": \"#E8E8E8\", \"gridwidth\": 0.75, \"linecolor\": \"#E8E8E8\", \"linewidth\": 0.75, \"mirror\": true, \"showgrid\": false, \"showline\": true, \"zerolinecolor\": \"#E8E8E8\"}, \"yaxis\": {\"gridcolor\": \"#E8E8E8\", \"gridwidth\": 0.75, \"linecolor\": \"#E8E8E8\", \"linewidth\": 0.75, \"mirror\": true, \"showgrid\": true, \"showline\": true, \"zerolinecolor\": \"#E8E8E8\"}}}, \"xaxis\": {\"anchor\": \"y\", \"domain\": [0.0, 1.0], \"title\": {\"text\": \"nation\"}}, \"yaxis\": {\"anchor\": \"x\", \"domain\": [0.0, 1.0], \"title\": {\"text\": \"value\"}}},                        {\"responsive\": true}                    ).then(function(){\n",
       "                            \n",
       "var gd = document.getElementById('7fa4646c-423b-49e4-ac72-62757c672346');\n",
       "var x = new MutationObserver(function (mutations, observer) {{\n",
       "        var display = window.getComputedStyle(gd).display;\n",
       "        if (!display || display === 'none') {{\n",
       "            console.log([gd, 'removed!']);\n",
       "            Plotly.purge(gd);\n",
       "            observer.disconnect();\n",
       "        }}\n",
       "}});\n",
       "\n",
       "// Listen for the removal of the full notebook cells\n",
       "var notebookContainer = gd.closest('#notebook-container');\n",
       "if (notebookContainer) {{\n",
       "    x.observe(notebookContainer, {childList: true});\n",
       "}}\n",
       "\n",
       "// Listen for the clearing of the current output cell\n",
       "var outputEl = gd.closest('.output');\n",
       "if (outputEl) {{\n",
       "    x.observe(outputEl, {childList: true});\n",
       "}}\n",
       "\n",
       "                        })                };                });            </script>        </div>"
      ]
     },
     "metadata": {},
     "output_type": "display_data"
    }
   ],
   "source": [
    "\n",
    "wide_df = px.data.medals_wide()\n",
    "\n",
    "fig = px.bar(wide_df, x=\"nation\", y=[\"gold\", \"silver\", \"bronze\"], template=bar_chart_template)\n",
    "fig.show()"
   ]
  },
  {
   "cell_type": "markdown",
   "id": "perfect-miniature",
   "metadata": {},
   "source": [
    "### Using colors\n",
    "\n",
    "For coloring discrete classes, pass a color sequence from the `colors` collection to `color_discrete_sequence`. Combinations are also possible."
   ]
  },
  {
   "cell_type": "code",
   "execution_count": null,
   "id": "genuine-assurance",
   "metadata": {},
   "outputs": [],
   "source": [
    "from python.plotly import bar_chart_template, colors, line_chart_template\n",
    "\n",
    "df = px.data.gapminder().query(\"continent=='Europe'\")\n",
    "df = df[(df.country.isin(df.country.unique()[:8]))&(df.year.isin([1982, 1992, 2002]))]\n",
    "fig = px.bar(df, x=\"year\", y=\"lifeExp\", color='country', template=line_chart_template, color_discrete_sequence=colors['rainbow_9'], barmode='group')\n",
    "fig.update_layout(dict(xaxis_title_text='', yaxis_title_text='', legend_title_text='', ))\n",
    "fig.show()"
   ]
  },
  {
   "cell_type": "markdown",
   "id": "stupid-president",
   "metadata": {},
   "source": [
    "Below we use the color sequence used for a value statement (agree / disagree / etc), but the order of the color sequence is the reverse from the order of our data, which is why we reverse the list. This particular sequence also doesn't include a color for _unknown_ or _don't know_, so this is added to the sequence manually. "
   ]
  },
  {
   "cell_type": "code",
   "execution_count": 104,
   "id": "introductory-stamp",
   "metadata": {},
   "outputs": [
    {
     "data": {
      "application/vnd.plotly.v1+json": {
       "config": {
        "plotlyServerURL": "https://plot.ly"
       },
       "data": [
        {
         "alignmentgroup": "True",
         "hovertemplate": "answer=volledig mee eens<br>ne_ams=%{x}<br>value=%{y}<extra></extra>",
         "legendgroup": "volledig mee eens",
         "marker": {
          "color": "#00A03C"
         },
         "name": "volledig mee eens",
         "offsetgroup": "volledig mee eens",
         "orientation": "v",
         "showlegend": true,
         "textposition": "auto",
         "type": "bar",
         "x": [
          "Nederland",
          "Amsterdam"
         ],
         "xaxis": "x",
         "y": [
          10,
          20
         ],
         "yaxis": "y"
        },
        {
         "alignmentgroup": "True",
         "hovertemplate": "answer=mee eens<br>ne_ams=%{x}<br>value=%{y}<extra></extra>",
         "legendgroup": "mee eens",
         "marker": {
          "color": "#5ABD00"
         },
         "name": "mee eens",
         "offsetgroup": "mee eens",
         "orientation": "v",
         "showlegend": true,
         "textposition": "auto",
         "type": "bar",
         "x": [
          "Nederland",
          "Amsterdam"
         ],
         "xaxis": "x",
         "y": [
          20,
          40
         ],
         "yaxis": "y"
        },
        {
         "alignmentgroup": "True",
         "hovertemplate": "answer=neutraal<br>ne_ams=%{x}<br>value=%{y}<extra></extra>",
         "legendgroup": "neutraal",
         "marker": {
          "color": "#FFF498"
         },
         "name": "neutraal",
         "offsetgroup": "neutraal",
         "orientation": "v",
         "showlegend": true,
         "textposition": "auto",
         "type": "bar",
         "x": [
          "Nederland",
          "Amsterdam"
         ],
         "xaxis": "x",
         "y": [
          20,
          5
         ],
         "yaxis": "y"
        },
        {
         "alignmentgroup": "True",
         "hovertemplate": "answer=mee oneens<br>ne_ams=%{x}<br>value=%{y}<extra></extra>",
         "legendgroup": "mee oneens",
         "marker": {
          "color": "#ff9100"
         },
         "name": "mee oneens",
         "offsetgroup": "mee oneens",
         "orientation": "v",
         "showlegend": true,
         "textposition": "auto",
         "type": "bar",
         "x": [
          "Nederland",
          "Amsterdam"
         ],
         "xaxis": "x",
         "y": [
          40,
          10
         ],
         "yaxis": "y"
        },
        {
         "alignmentgroup": "True",
         "hovertemplate": "answer=volledig mee oneens<br>ne_ams=%{x}<br>value=%{y}<extra></extra>",
         "legendgroup": "volledig mee oneens",
         "marker": {
          "color": "#FF0000"
         },
         "name": "volledig mee oneens",
         "offsetgroup": "volledig mee oneens",
         "orientation": "v",
         "showlegend": true,
         "textposition": "auto",
         "type": "bar",
         "x": [
          "Nederland",
          "Amsterdam"
         ],
         "xaxis": "x",
         "y": [
          5,
          20
         ],
         "yaxis": "y"
        },
        {
         "alignmentgroup": "True",
         "hovertemplate": "answer=weet niet<br>ne_ams=%{x}<br>value=%{y}<extra></extra>",
         "legendgroup": "weet niet",
         "marker": {
          "color": "#787878"
         },
         "name": "weet niet",
         "offsetgroup": "weet niet",
         "orientation": "v",
         "showlegend": true,
         "textposition": "auto",
         "type": "bar",
         "x": [
          "Nederland",
          "Amsterdam"
         ],
         "xaxis": "x",
         "y": [
          5,
          5
         ],
         "yaxis": "y"
        }
       ],
       "layout": {
        "autosize": true,
        "barmode": "relative",
        "legend": {
         "title": {
          "text": ""
         },
         "tracegroupgap": 0
        },
        "margin": {
         "t": 60
        },
        "template": {
         "layout": {
          "colorway": [
           "#004699",
           "#00a0e6",
           "#71BDEE",
           "#B1D9F5",
           "#E5F2FC"
          ],
          "font": {
           "family": "Corbel",
           "size": 15
          },
          "plot_bgcolor": "#FFFFFF",
          "xaxis": {
           "gridcolor": "#E8E8E8",
           "gridwidth": 0.75,
           "linecolor": "#E8E8E8",
           "linewidth": 0.75,
           "mirror": true,
           "showgrid": false,
           "showline": true,
           "zerolinecolor": "#E8E8E8"
          },
          "yaxis": {
           "gridcolor": "#E8E8E8",
           "gridwidth": 0.75,
           "linecolor": "#E8E8E8",
           "linewidth": 0.75,
           "mirror": true,
           "showgrid": true,
           "showline": true,
           "zerolinecolor": "#E8E8E8"
          }
         }
        },
        "xaxis": {
         "anchor": "y",
         "autorange": true,
         "domain": [
          0,
          1
         ],
         "range": [
          -0.5,
          1.5
         ],
         "title": {
          "text": ""
         },
         "type": "category"
        },
        "yaxis": {
         "anchor": "x",
         "autorange": true,
         "domain": [
          0,
          1
         ],
         "range": [
          0,
          105.26315789473684
         ],
         "title": {
          "text": ""
         },
         "type": "linear"
        }
       }
      },
      "image/png": "[encoded data removed]",
      "text/html": [
       "<div>                            <div id=\"4e387fdf-4373-4d2c-a1a3-a89cac45d241\" class=\"plotly-graph-div\" style=\"height:525px; width:100%;\"></div>            <script type=\"text/javascript\">                require([\"plotly\"], function(Plotly) {                    window.PLOTLYENV=window.PLOTLYENV || {};                                    if (document.getElementById(\"4e387fdf-4373-4d2c-a1a3-a89cac45d241\")) {                    Plotly.newPlot(                        \"4e387fdf-4373-4d2c-a1a3-a89cac45d241\",                        [{\"alignmentgroup\": \"True\", \"hovertemplate\": \"answer=volledig mee eens<br>ne_ams=%{x}<br>value=%{y}<extra></extra>\", \"legendgroup\": \"volledig mee eens\", \"marker\": {\"color\": \"#00A03C\"}, \"name\": \"volledig mee eens\", \"offsetgroup\": \"volledig mee eens\", \"orientation\": \"v\", \"showlegend\": true, \"textposition\": \"auto\", \"type\": \"bar\", \"x\": [\"Nederland\", \"Amsterdam\"], \"xaxis\": \"x\", \"y\": [10, 20], \"yaxis\": \"y\"}, {\"alignmentgroup\": \"True\", \"hovertemplate\": \"answer=mee eens<br>ne_ams=%{x}<br>value=%{y}<extra></extra>\", \"legendgroup\": \"mee eens\", \"marker\": {\"color\": \"#5ABD00\"}, \"name\": \"mee eens\", \"offsetgroup\": \"mee eens\", \"orientation\": \"v\", \"showlegend\": true, \"textposition\": \"auto\", \"type\": \"bar\", \"x\": [\"Nederland\", \"Amsterdam\"], \"xaxis\": \"x\", \"y\": [20, 40], \"yaxis\": \"y\"}, {\"alignmentgroup\": \"True\", \"hovertemplate\": \"answer=neutraal<br>ne_ams=%{x}<br>value=%{y}<extra></extra>\", \"legendgroup\": \"neutraal\", \"marker\": {\"color\": \"#FFF498\"}, \"name\": \"neutraal\", \"offsetgroup\": \"neutraal\", \"orientation\": \"v\", \"showlegend\": true, \"textposition\": \"auto\", \"type\": \"bar\", \"x\": [\"Nederland\", \"Amsterdam\"], \"xaxis\": \"x\", \"y\": [20, 5], \"yaxis\": \"y\"}, {\"alignmentgroup\": \"True\", \"hovertemplate\": \"answer=mee oneens<br>ne_ams=%{x}<br>value=%{y}<extra></extra>\", \"legendgroup\": \"mee oneens\", \"marker\": {\"color\": \"#ff9100\"}, \"name\": \"mee oneens\", \"offsetgroup\": \"mee oneens\", \"orientation\": \"v\", \"showlegend\": true, \"textposition\": \"auto\", \"type\": \"bar\", \"x\": [\"Nederland\", \"Amsterdam\"], \"xaxis\": \"x\", \"y\": [40, 10], \"yaxis\": \"y\"}, {\"alignmentgroup\": \"True\", \"hovertemplate\": \"answer=volledig mee oneens<br>ne_ams=%{x}<br>value=%{y}<extra></extra>\", \"legendgroup\": \"volledig mee oneens\", \"marker\": {\"color\": \"#FF0000\"}, \"name\": \"volledig mee oneens\", \"offsetgroup\": \"volledig mee oneens\", \"orientation\": \"v\", \"showlegend\": true, \"textposition\": \"auto\", \"type\": \"bar\", \"x\": [\"Nederland\", \"Amsterdam\"], \"xaxis\": \"x\", \"y\": [5, 20], \"yaxis\": \"y\"}, {\"alignmentgroup\": \"True\", \"hovertemplate\": \"answer=weet niet<br>ne_ams=%{x}<br>value=%{y}<extra></extra>\", \"legendgroup\": \"weet niet\", \"marker\": {\"color\": \"#787878\"}, \"name\": \"weet niet\", \"offsetgroup\": \"weet niet\", \"orientation\": \"v\", \"showlegend\": true, \"textposition\": \"auto\", \"type\": \"bar\", \"x\": [\"Nederland\", \"Amsterdam\"], \"xaxis\": \"x\", \"y\": [5, 5], \"yaxis\": \"y\"}],                        {\"barmode\": \"relative\", \"legend\": {\"title\": {\"text\": \"\"}, \"tracegroupgap\": 0}, \"margin\": {\"t\": 60}, \"template\": {\"layout\": {\"colorway\": [\"#004699\", \"#00a0e6\", \"#71BDEE\", \"#B1D9F5\", \"#E5F2FC\"], \"font\": {\"family\": \"Corbel\", \"size\": 15}, \"plot_bgcolor\": \"#FFFFFF\", \"xaxis\": {\"gridcolor\": \"#E8E8E8\", \"gridwidth\": 0.75, \"linecolor\": \"#E8E8E8\", \"linewidth\": 0.75, \"mirror\": true, \"showgrid\": false, \"showline\": true, \"zerolinecolor\": \"#E8E8E8\"}, \"yaxis\": {\"gridcolor\": \"#E8E8E8\", \"gridwidth\": 0.75, \"linecolor\": \"#E8E8E8\", \"linewidth\": 0.75, \"mirror\": true, \"showgrid\": true, \"showline\": true, \"zerolinecolor\": \"#E8E8E8\"}}}, \"xaxis\": {\"anchor\": \"y\", \"domain\": [0.0, 1.0], \"title\": {\"text\": \"\"}}, \"yaxis\": {\"anchor\": \"x\", \"domain\": [0.0, 1.0], \"title\": {\"text\": \"\"}}},                        {\"responsive\": true}                    ).then(function(){\n",
       "                            \n",
       "var gd = document.getElementById('4e387fdf-4373-4d2c-a1a3-a89cac45d241');\n",
       "var x = new MutationObserver(function (mutations, observer) {{\n",
       "        var display = window.getComputedStyle(gd).display;\n",
       "        if (!display || display === 'none') {{\n",
       "            console.log([gd, 'removed!']);\n",
       "            Plotly.purge(gd);\n",
       "            observer.disconnect();\n",
       "        }}\n",
       "}});\n",
       "\n",
       "// Listen for the removal of the full notebook cells\n",
       "var notebookContainer = gd.closest('#notebook-container');\n",
       "if (notebookContainer) {{\n",
       "    x.observe(notebookContainer, {childList: true});\n",
       "}}\n",
       "\n",
       "// Listen for the clearing of the current output cell\n",
       "var outputEl = gd.closest('.output');\n",
       "if (outputEl) {{\n",
       "    x.observe(outputEl, {childList: true});\n",
       "}}\n",
       "\n",
       "                        })                };                });            </script>        </div>"
      ]
     },
     "metadata": {},
     "output_type": "display_data"
    }
   ],
   "source": [
    "df = pd.DataFrame({\"value\": [10, 20, 20, 40, 5, 5, 20, 40, 5,10, 20, 5], \n",
    "                   \"answer\": ['volledig mee eens', 'mee eens', 'neutraal', 'mee oneens', 'volledig mee oneens', 'weet niet', 'volledig mee eens', 'mee eens', 'neutraal', 'mee oneens', 'volledig mee oneens', 'weet niet'],\n",
    "                  \"ne_ams\": [\"Nederland\",\"Nederland\",\"Nederland\",\"Nederland\",\"Nederland\",\"Nederland\",\"Amsterdam\",\"Amsterdam\",\"Amsterdam\",\"Amsterdam\",\"Amsterdam\",\"Amsterdam\",]})\n",
    "\n",
    "fig = px.bar(df, x=\"ne_ams\", y=\"value\", color='answer', template=line_chart_template, color_discrete_sequence=colors['red_green_gradient_5'][::-1]+colors['unknown'])\n",
    "fig.update_layout(dict(xaxis_title_text='', yaxis_title_text='', legend_title_text='', ))\n",
    "fig.show()"
   ]
  },
  {
   "cell_type": "markdown",
   "id": "skilled-treatment",
   "metadata": {},
   "source": [
    "### Postprocessing\n",
    "\n",
    "Plotly takes axis and legend labels from the data, overwriting any values stored in the template. That means we have to alter or remove the axis and legend labels after generating the plot. This is done with the `update_layout` method."
   ]
  },
  {
   "cell_type": "code",
   "execution_count": null,
   "id": "becoming-twist",
   "metadata": {},
   "outputs": [],
   "source": [
    "from python.plotly import bar_chart_template, colors, line_chart_template\n",
    "\n",
    "df = px.data.gapminder().query(\"continent=='Oceania'\")\n",
    "fig = px.line(df, x=\"year\", y=\"lifeExp\", color='country', template=line_chart_template, color_discrete_sequence=colors['rainbow_9'])\n",
    "fig.update_layout(dict(xaxis_title_text='', yaxis_title_text='', legend_title_text='', ))\n",
    "fig.show()"
   ]
  }
 ],
 "metadata": {
  "kernelspec": {
   "display_name": "Python 3",
   "language": "python",
   "name": "python3"
  },
  "language_info": {
   "codemirror_mode": {
    "name": "ipython",
    "version": 3
   },
   "file_extension": ".py",
   "mimetype": "text/x-python",
   "name": "python",
   "nbconvert_exporter": "python",
   "pygments_lexer": "ipython3",
   "version": "3.8.6"
  }
 },
 "nbformat": 4,
 "nbformat_minor": 5
}
